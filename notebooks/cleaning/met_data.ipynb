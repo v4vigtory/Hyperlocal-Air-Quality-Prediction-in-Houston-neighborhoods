{
 "cells": [
  {
   "cell_type": "markdown",
   "metadata": {},
   "source": [
    "**Downloading and Cleaning Meterological Data** <br>\n",
    "Carolyn Vilter <br>\n",
    "<br>\n",
    "Inspiration / Meteorological API approach from Varsha Gopalakrishnan<br>\n",
    "https://github.com/varsha2509/hyperlocal-aq-prediction/blob/master/Notebooks/Daymet-Data-API-Call.ipynb"
   ]
  },
  {
   "cell_type": "code",
   "execution_count": 5,
   "metadata": {},
   "outputs": [],
   "source": [
    "# Setup\n",
    "import daymetpy\n",
    "import pandas as pd\n",
    "import geopandas as gpd\n",
    "import seaborn as sns\n",
    "import numpy as np"
   ]
  },
  {
   "cell_type": "code",
   "execution_count": null,
   "metadata": {},
   "outputs": [],
   "source": [
    "# Basis of eventual met dataset: Vishal's air quality sensor data\n",
    "# Air quality sensors will be the rows/obs of the final dataset\n",
    "\n",
    "tf_no2 \n",
    "tf_pm25 "
   ]
  },
  {
   "cell_type": "code",
   "execution_count": null,
   "metadata": {},
   "outputs": [],
   "source": [
    "# Example use of API for one point in Houston\n",
    "houston_loc = (-95.3698, 29.7604)\n",
    "houston1 = daymetpy.daymet_timeseries(lon=houston_loc[0], lat=houston_loc[1], start_year=2017, end_year=2018)\n",
    "houston1"
   ]
  },
  {
   "cell_type": "code",
   "execution_count": 10,
   "metadata": {},
   "outputs": [],
   "source": [
    "# FIRST: tf_no2 data\n",
    "tf_no2[\"lat_short\"] = tf_no2[\"latitude\"].round(2)\n",
    "tf_no2[\"lon_short\"] = tf_no2[\"longitude\"].round(2)\n",
    "# Create a unique list of lat, long pairs rounded to 2 decimal places\n",
    "# These are the points we need meteorological data for \n",
    "tf_no2_short = tf_no2[[\"lat_short\", \"lon_short\"]]\n",
    "tf_no2_short = drop.duplicates(tf_no2_short)"
   ]
  },
  {
   "cell_type": "code",
   "execution_count": null,
   "metadata": {},
   "outputs": [],
   "source": [
    "\n",
    "# for each lat, lon pair in the list, get 2017-2018 data\n",
    "\n",
    "# then limit to the time range (sept 2017 to april 2018, inclusive?)\n",
    "\n",
    "# then compress to one row, all obs - averages\n",
    "\n",
    "# then add lat lon columns\n",
    "\n",
    "# then append the new row to the main df\n",
    "\n",
    "# then merge the new, main met df onto vishal's data\n",
    "\n",
    "\n",
    "# example\n",
    "houston_loc = (-95.38, 29.77)\n",
    "houston2 = daymetpy.daymet_timeseries(lon=houston_loc[0], lat=houston_loc[1], start_year=2017, end_year=2018)"
   ]
  }
 ],
 "metadata": {
  "interpreter": {
   "hash": "b0fa6594d8f4cbf19f97940f81e996739fb7646882a419484c72d19e05852a7e"
  },
  "kernelspec": {
   "display_name": "Python 3.9.12 64-bit",
   "language": "python",
   "name": "python3"
  },
  "language_info": {
   "codemirror_mode": {
    "name": "ipython",
    "version": 3
   },
   "file_extension": ".py",
   "mimetype": "text/x-python",
   "name": "python",
   "nbconvert_exporter": "python",
   "pygments_lexer": "ipython3",
   "version": "3.9.12"
  },
  "orig_nbformat": 4
 },
 "nbformat": 4,
 "nbformat_minor": 2
}
