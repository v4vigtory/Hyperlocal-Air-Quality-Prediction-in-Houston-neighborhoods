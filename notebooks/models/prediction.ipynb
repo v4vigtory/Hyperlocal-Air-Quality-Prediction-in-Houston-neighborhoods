{
 "cells": [
  {
   "cell_type": "code",
   "execution_count": 106,
   "metadata": {},
   "outputs": [],
   "source": [
    "import numpy as np\n",
    "import pandas as pd\n",
    "import plotly.express as px"
   ]
  },
  {
   "cell_type": "markdown",
   "metadata": {},
   "source": [
    "For prediction: chose two similarly-sized neighborhoods (rectangles) with very different location, population density, population non-white, adult asthma prevalence, life expectancy, social vulnerabilty index, and prevalence of emissions point sources."
   ]
  },
  {
   "cell_type": "code",
   "execution_count": 107,
   "metadata": {},
   "outputs": [],
   "source": [
    "# Neighborhood 1\n",
    "n1_top_lat = 29.686200\n",
    "n1_bot_lat = 29.672427\n",
    "n1_right_lon = -95.319700\n",
    "n1_left_lon = -95.367249\n",
    "\n",
    "# Neighborhood 2\n",
    "n2_top_lat = 29.763409\n",
    "n2_bot_lat = 29.750580\n",
    "n2_right_lon = -95.486371\n",
    "n2_left_lon = -95.526338"
   ]
  },
  {
   "cell_type": "code",
   "execution_count": 108,
   "metadata": {},
   "outputs": [
    {
     "data": {
      "text/plain": [
       "0.01377300000000048"
      ]
     },
     "execution_count": 108,
     "metadata": {},
     "output_type": "execute_result"
    }
   ],
   "source": [
    "n1_top_lat - n1_bot_lat"
   ]
  },
  {
   "cell_type": "code",
   "execution_count": 109,
   "metadata": {},
   "outputs": [
    {
     "data": {
      "text/plain": [
       "0.01282899999999998"
      ]
     },
     "execution_count": 109,
     "metadata": {},
     "output_type": "execute_result"
    }
   ],
   "source": [
    "n2_top_lat-n2_bot_lat"
   ]
  },
  {
   "cell_type": "code",
   "execution_count": 110,
   "metadata": {},
   "outputs": [
    {
     "data": {
      "text/plain": [
       "0.047549000000003616"
      ]
     },
     "execution_count": 110,
     "metadata": {},
     "output_type": "execute_result"
    }
   ],
   "source": [
    "n1_right_lon - n1_left_lon"
   ]
  },
  {
   "cell_type": "code",
   "execution_count": 111,
   "metadata": {},
   "outputs": [
    {
     "data": {
      "text/plain": [
       "0.039966999999990094"
      ]
     },
     "execution_count": 111,
     "metadata": {},
     "output_type": "execute_result"
    }
   ],
   "source": [
    "n2_right_lon - n2_left_lon"
   ]
  },
  {
   "cell_type": "code",
   "execution_count": 112,
   "metadata": {},
   "outputs": [
    {
     "name": "stdout",
     "output_type": "stream",
     "text": [
      "0.00229550000000008 n1 N-S step\n",
      "0.002377450000000181 n1 E-W step\n",
      "0.0025657999999999957 n2 N-S step\n",
      "0.0023509999999994174 n2 E-W step\n"
     ]
    }
   ],
   "source": [
    "# Choosing increments / step size\n",
    "print((n1_top_lat - n1_bot_lat)/6, \"n1 N-S step\")\n",
    "print((n1_right_lon - n1_left_lon)/20, \"n1 E-W step\")\n",
    "print((n2_top_lat-n2_bot_lat)/5, \"n2 N-S step\")\n",
    "print((n2_right_lon - n2_left_lon)/17, \"n2 E-W step\")"
   ]
  },
  {
   "cell_type": "code",
   "execution_count": 113,
   "metadata": {},
   "outputs": [],
   "source": [
    "# create grid\n",
    "# n1\n",
    "n1_lats = np.linspace(n1_bot_lat, n1_top_lat, 6)\n",
    "n1_lons = np.linspace(n1_right_lon, n1_left_lon, 20)\n",
    "\n",
    "# n2\n",
    "# n1\n",
    "n2_lats = np.linspace(n2_bot_lat, n2_top_lat, 5)\n",
    "n2_lons = np.linspace(n2_right_lon, n2_left_lon, 17)"
   ]
  },
  {
   "cell_type": "code",
   "execution_count": 114,
   "metadata": {},
   "outputs": [
    {
     "name": "stdout",
     "output_type": "stream",
     "text": [
      "120\n",
      "120\n"
     ]
    }
   ],
   "source": [
    "lats = []\n",
    "lons = []\n",
    "for lat in n1_lats:\n",
    "    for lon in n1_lons:\n",
    "        lats.append(lat)\n",
    "        lons.append(lon)\n",
    "print(len(lats))\n",
    "print(len(lons))\n",
    "n1_dict = {\"lat\": lats, \"lon\": lons}"
   ]
  },
  {
   "cell_type": "code",
   "execution_count": 115,
   "metadata": {},
   "outputs": [
    {
     "name": "stdout",
     "output_type": "stream",
     "text": [
      "85\n",
      "85\n"
     ]
    }
   ],
   "source": [
    "lats = []\n",
    "lons = []\n",
    "for lat in n2_lats:\n",
    "    for lon in n2_lons:\n",
    "        lats.append(lat)\n",
    "        lons.append(lon)\n",
    "print(len(lats))\n",
    "print(len(lons))\n",
    "n2_dict = {\"lat\": lats, \"lon\": lons}"
   ]
  },
  {
   "cell_type": "code",
   "execution_count": 116,
   "metadata": {},
   "outputs": [
    {
     "data": {
      "text/html": [
       "<div>\n",
       "<style scoped>\n",
       "    .dataframe tbody tr th:only-of-type {\n",
       "        vertical-align: middle;\n",
       "    }\n",
       "\n",
       "    .dataframe tbody tr th {\n",
       "        vertical-align: top;\n",
       "    }\n",
       "\n",
       "    .dataframe thead th {\n",
       "        text-align: right;\n",
       "    }\n",
       "</style>\n",
       "<table border=\"1\" class=\"dataframe\">\n",
       "  <thead>\n",
       "    <tr style=\"text-align: right;\">\n",
       "      <th></th>\n",
       "      <th>lat</th>\n",
       "      <th>lon</th>\n",
       "    </tr>\n",
       "  </thead>\n",
       "  <tbody>\n",
       "    <tr>\n",
       "      <th>0</th>\n",
       "      <td>29.672427</td>\n",
       "      <td>-95.319700</td>\n",
       "    </tr>\n",
       "    <tr>\n",
       "      <th>1</th>\n",
       "      <td>29.672427</td>\n",
       "      <td>-95.322203</td>\n",
       "    </tr>\n",
       "    <tr>\n",
       "      <th>2</th>\n",
       "      <td>29.672427</td>\n",
       "      <td>-95.324705</td>\n",
       "    </tr>\n",
       "    <tr>\n",
       "      <th>3</th>\n",
       "      <td>29.672427</td>\n",
       "      <td>-95.327208</td>\n",
       "    </tr>\n",
       "    <tr>\n",
       "      <th>4</th>\n",
       "      <td>29.672427</td>\n",
       "      <td>-95.329710</td>\n",
       "    </tr>\n",
       "    <tr>\n",
       "      <th>...</th>\n",
       "      <td>...</td>\n",
       "      <td>...</td>\n",
       "    </tr>\n",
       "    <tr>\n",
       "      <th>115</th>\n",
       "      <td>29.686200</td>\n",
       "      <td>-95.357239</td>\n",
       "    </tr>\n",
       "    <tr>\n",
       "      <th>116</th>\n",
       "      <td>29.686200</td>\n",
       "      <td>-95.359741</td>\n",
       "    </tr>\n",
       "    <tr>\n",
       "      <th>117</th>\n",
       "      <td>29.686200</td>\n",
       "      <td>-95.362244</td>\n",
       "    </tr>\n",
       "    <tr>\n",
       "      <th>118</th>\n",
       "      <td>29.686200</td>\n",
       "      <td>-95.364746</td>\n",
       "    </tr>\n",
       "    <tr>\n",
       "      <th>119</th>\n",
       "      <td>29.686200</td>\n",
       "      <td>-95.367249</td>\n",
       "    </tr>\n",
       "  </tbody>\n",
       "</table>\n",
       "<p>120 rows × 2 columns</p>\n",
       "</div>"
      ],
      "text/plain": [
       "           lat        lon\n",
       "0    29.672427 -95.319700\n",
       "1    29.672427 -95.322203\n",
       "2    29.672427 -95.324705\n",
       "3    29.672427 -95.327208\n",
       "4    29.672427 -95.329710\n",
       "..         ...        ...\n",
       "115  29.686200 -95.357239\n",
       "116  29.686200 -95.359741\n",
       "117  29.686200 -95.362244\n",
       "118  29.686200 -95.364746\n",
       "119  29.686200 -95.367249\n",
       "\n",
       "[120 rows x 2 columns]"
      ]
     },
     "execution_count": 116,
     "metadata": {},
     "output_type": "execute_result"
    }
   ],
   "source": [
    "df_n1 = pd.DataFrame(n1_dict)\n",
    "df_n1 = df_n1.round(6)\n",
    "df_n1"
   ]
  },
  {
   "cell_type": "code",
   "execution_count": 117,
   "metadata": {},
   "outputs": [
    {
     "data": {
      "text/html": [
       "<div>\n",
       "<style scoped>\n",
       "    .dataframe tbody tr th:only-of-type {\n",
       "        vertical-align: middle;\n",
       "    }\n",
       "\n",
       "    .dataframe tbody tr th {\n",
       "        vertical-align: top;\n",
       "    }\n",
       "\n",
       "    .dataframe thead th {\n",
       "        text-align: right;\n",
       "    }\n",
       "</style>\n",
       "<table border=\"1\" class=\"dataframe\">\n",
       "  <thead>\n",
       "    <tr style=\"text-align: right;\">\n",
       "      <th></th>\n",
       "      <th>lat</th>\n",
       "      <th>lon</th>\n",
       "    </tr>\n",
       "  </thead>\n",
       "  <tbody>\n",
       "    <tr>\n",
       "      <th>0</th>\n",
       "      <td>29.750580</td>\n",
       "      <td>-95.486371</td>\n",
       "    </tr>\n",
       "    <tr>\n",
       "      <th>1</th>\n",
       "      <td>29.750580</td>\n",
       "      <td>-95.488869</td>\n",
       "    </tr>\n",
       "    <tr>\n",
       "      <th>2</th>\n",
       "      <td>29.750580</td>\n",
       "      <td>-95.491367</td>\n",
       "    </tr>\n",
       "    <tr>\n",
       "      <th>3</th>\n",
       "      <td>29.750580</td>\n",
       "      <td>-95.493865</td>\n",
       "    </tr>\n",
       "    <tr>\n",
       "      <th>4</th>\n",
       "      <td>29.750580</td>\n",
       "      <td>-95.496363</td>\n",
       "    </tr>\n",
       "    <tr>\n",
       "      <th>...</th>\n",
       "      <td>...</td>\n",
       "      <td>...</td>\n",
       "    </tr>\n",
       "    <tr>\n",
       "      <th>80</th>\n",
       "      <td>29.763409</td>\n",
       "      <td>-95.516346</td>\n",
       "    </tr>\n",
       "    <tr>\n",
       "      <th>81</th>\n",
       "      <td>29.763409</td>\n",
       "      <td>-95.518844</td>\n",
       "    </tr>\n",
       "    <tr>\n",
       "      <th>82</th>\n",
       "      <td>29.763409</td>\n",
       "      <td>-95.521342</td>\n",
       "    </tr>\n",
       "    <tr>\n",
       "      <th>83</th>\n",
       "      <td>29.763409</td>\n",
       "      <td>-95.523840</td>\n",
       "    </tr>\n",
       "    <tr>\n",
       "      <th>84</th>\n",
       "      <td>29.763409</td>\n",
       "      <td>-95.526338</td>\n",
       "    </tr>\n",
       "  </tbody>\n",
       "</table>\n",
       "<p>85 rows × 2 columns</p>\n",
       "</div>"
      ],
      "text/plain": [
       "          lat        lon\n",
       "0   29.750580 -95.486371\n",
       "1   29.750580 -95.488869\n",
       "2   29.750580 -95.491367\n",
       "3   29.750580 -95.493865\n",
       "4   29.750580 -95.496363\n",
       "..        ...        ...\n",
       "80  29.763409 -95.516346\n",
       "81  29.763409 -95.518844\n",
       "82  29.763409 -95.521342\n",
       "83  29.763409 -95.523840\n",
       "84  29.763409 -95.526338\n",
       "\n",
       "[85 rows x 2 columns]"
      ]
     },
     "execution_count": 117,
     "metadata": {},
     "output_type": "execute_result"
    }
   ],
   "source": [
    "df_n2 = pd.DataFrame(n2_dict)\n",
    "df_n2 = df_n2.round(6)\n",
    "df_n2"
   ]
  },
  {
   "cell_type": "code",
   "execution_count": 118,
   "metadata": {},
   "outputs": [
    {
     "name": "stderr",
     "output_type": "stream",
     "text": [
      "/var/folders/w0/hp1p0mz546x0rnc9mft_s83w0000gn/T/ipykernel_57563/3246832723.py:1: FutureWarning:\n",
      "\n",
      "The frame.append method is deprecated and will be removed from pandas in a future version. Use pandas.concat instead.\n",
      "\n"
     ]
    },
    {
     "data": {
      "text/html": [
       "<div>\n",
       "<style scoped>\n",
       "    .dataframe tbody tr th:only-of-type {\n",
       "        vertical-align: middle;\n",
       "    }\n",
       "\n",
       "    .dataframe tbody tr th {\n",
       "        vertical-align: top;\n",
       "    }\n",
       "\n",
       "    .dataframe thead th {\n",
       "        text-align: right;\n",
       "    }\n",
       "</style>\n",
       "<table border=\"1\" class=\"dataframe\">\n",
       "  <thead>\n",
       "    <tr style=\"text-align: right;\">\n",
       "      <th></th>\n",
       "      <th>lat</th>\n",
       "      <th>lon</th>\n",
       "    </tr>\n",
       "  </thead>\n",
       "  <tbody>\n",
       "    <tr>\n",
       "      <th>0</th>\n",
       "      <td>29.672427</td>\n",
       "      <td>-95.319700</td>\n",
       "    </tr>\n",
       "    <tr>\n",
       "      <th>1</th>\n",
       "      <td>29.672427</td>\n",
       "      <td>-95.322203</td>\n",
       "    </tr>\n",
       "    <tr>\n",
       "      <th>2</th>\n",
       "      <td>29.672427</td>\n",
       "      <td>-95.324705</td>\n",
       "    </tr>\n",
       "    <tr>\n",
       "      <th>3</th>\n",
       "      <td>29.672427</td>\n",
       "      <td>-95.327208</td>\n",
       "    </tr>\n",
       "    <tr>\n",
       "      <th>4</th>\n",
       "      <td>29.672427</td>\n",
       "      <td>-95.329710</td>\n",
       "    </tr>\n",
       "    <tr>\n",
       "      <th>...</th>\n",
       "      <td>...</td>\n",
       "      <td>...</td>\n",
       "    </tr>\n",
       "    <tr>\n",
       "      <th>80</th>\n",
       "      <td>29.763409</td>\n",
       "      <td>-95.516346</td>\n",
       "    </tr>\n",
       "    <tr>\n",
       "      <th>81</th>\n",
       "      <td>29.763409</td>\n",
       "      <td>-95.518844</td>\n",
       "    </tr>\n",
       "    <tr>\n",
       "      <th>82</th>\n",
       "      <td>29.763409</td>\n",
       "      <td>-95.521342</td>\n",
       "    </tr>\n",
       "    <tr>\n",
       "      <th>83</th>\n",
       "      <td>29.763409</td>\n",
       "      <td>-95.523840</td>\n",
       "    </tr>\n",
       "    <tr>\n",
       "      <th>84</th>\n",
       "      <td>29.763409</td>\n",
       "      <td>-95.526338</td>\n",
       "    </tr>\n",
       "  </tbody>\n",
       "</table>\n",
       "<p>205 rows × 2 columns</p>\n",
       "</div>"
      ],
      "text/plain": [
       "          lat        lon\n",
       "0   29.672427 -95.319700\n",
       "1   29.672427 -95.322203\n",
       "2   29.672427 -95.324705\n",
       "3   29.672427 -95.327208\n",
       "4   29.672427 -95.329710\n",
       "..        ...        ...\n",
       "80  29.763409 -95.516346\n",
       "81  29.763409 -95.518844\n",
       "82  29.763409 -95.521342\n",
       "83  29.763409 -95.523840\n",
       "84  29.763409 -95.526338\n",
       "\n",
       "[205 rows x 2 columns]"
      ]
     },
     "execution_count": 118,
     "metadata": {},
     "output_type": "execute_result"
    }
   ],
   "source": [
    "df_predict = df_n1.append(df_n2)\n",
    "df_predict"
   ]
  },
  {
   "cell_type": "code",
   "execution_count": 119,
   "metadata": {},
   "outputs": [
    {
     "data": {
      "application/vnd.plotly.v1+json": {
       "config": {
        "plotlyServerURL": "https://plot.ly"
       },
       "data": [
        {
         "hovertemplate": "lat=%{lat}<br>lon=%{lon}<extra></extra>",
         "lat": [
          29.672427,
          29.672427,
          29.672427,
          29.672427,
          29.672427,
          29.672427,
          29.672427,
          29.672427,
          29.672427,
          29.672427,
          29.672427,
          29.672427,
          29.672427,
          29.672427,
          29.672427,
          29.672427,
          29.672427,
          29.672427,
          29.672427,
          29.672427,
          29.675182,
          29.675182,
          29.675182,
          29.675182,
          29.675182,
          29.675182,
          29.675182,
          29.675182,
          29.675182,
          29.675182,
          29.675182,
          29.675182,
          29.675182,
          29.675182,
          29.675182,
          29.675182,
          29.675182,
          29.675182,
          29.675182,
          29.675182,
          29.677936,
          29.677936,
          29.677936,
          29.677936,
          29.677936,
          29.677936,
          29.677936,
          29.677936,
          29.677936,
          29.677936,
          29.677936,
          29.677936,
          29.677936,
          29.677936,
          29.677936,
          29.677936,
          29.677936,
          29.677936,
          29.677936,
          29.677936,
          29.680691,
          29.680691,
          29.680691,
          29.680691,
          29.680691,
          29.680691,
          29.680691,
          29.680691,
          29.680691,
          29.680691,
          29.680691,
          29.680691,
          29.680691,
          29.680691,
          29.680691,
          29.680691,
          29.680691,
          29.680691,
          29.680691,
          29.680691,
          29.683445,
          29.683445,
          29.683445,
          29.683445,
          29.683445,
          29.683445,
          29.683445,
          29.683445,
          29.683445,
          29.683445,
          29.683445,
          29.683445,
          29.683445,
          29.683445,
          29.683445,
          29.683445,
          29.683445,
          29.683445,
          29.683445,
          29.683445,
          29.6862,
          29.6862,
          29.6862,
          29.6862,
          29.6862,
          29.6862,
          29.6862,
          29.6862,
          29.6862,
          29.6862,
          29.6862,
          29.6862,
          29.6862,
          29.6862,
          29.6862,
          29.6862,
          29.6862,
          29.6862,
          29.6862,
          29.6862,
          29.75058,
          29.75058,
          29.75058,
          29.75058,
          29.75058,
          29.75058,
          29.75058,
          29.75058,
          29.75058,
          29.75058,
          29.75058,
          29.75058,
          29.75058,
          29.75058,
          29.75058,
          29.75058,
          29.75058,
          29.753787,
          29.753787,
          29.753787,
          29.753787,
          29.753787,
          29.753787,
          29.753787,
          29.753787,
          29.753787,
          29.753787,
          29.753787,
          29.753787,
          29.753787,
          29.753787,
          29.753787,
          29.753787,
          29.753787,
          29.756994,
          29.756994,
          29.756994,
          29.756994,
          29.756994,
          29.756994,
          29.756994,
          29.756994,
          29.756994,
          29.756994,
          29.756994,
          29.756994,
          29.756994,
          29.756994,
          29.756994,
          29.756994,
          29.756994,
          29.760202,
          29.760202,
          29.760202,
          29.760202,
          29.760202,
          29.760202,
          29.760202,
          29.760202,
          29.760202,
          29.760202,
          29.760202,
          29.760202,
          29.760202,
          29.760202,
          29.760202,
          29.760202,
          29.760202,
          29.763409,
          29.763409,
          29.763409,
          29.763409,
          29.763409,
          29.763409,
          29.763409,
          29.763409,
          29.763409,
          29.763409,
          29.763409,
          29.763409,
          29.763409,
          29.763409,
          29.763409,
          29.763409,
          29.763409
         ],
         "legendgroup": "",
         "lon": [
          -95.3197,
          -95.322203,
          -95.324705,
          -95.327208,
          -95.32971,
          -95.332213,
          -95.334715,
          -95.337218,
          -95.339721,
          -95.342223,
          -95.344726,
          -95.347228,
          -95.349731,
          -95.352234,
          -95.354736,
          -95.357239,
          -95.359741,
          -95.362244,
          -95.364746,
          -95.367249,
          -95.3197,
          -95.322203,
          -95.324705,
          -95.327208,
          -95.32971,
          -95.332213,
          -95.334715,
          -95.337218,
          -95.339721,
          -95.342223,
          -95.344726,
          -95.347228,
          -95.349731,
          -95.352234,
          -95.354736,
          -95.357239,
          -95.359741,
          -95.362244,
          -95.364746,
          -95.367249,
          -95.3197,
          -95.322203,
          -95.324705,
          -95.327208,
          -95.32971,
          -95.332213,
          -95.334715,
          -95.337218,
          -95.339721,
          -95.342223,
          -95.344726,
          -95.347228,
          -95.349731,
          -95.352234,
          -95.354736,
          -95.357239,
          -95.359741,
          -95.362244,
          -95.364746,
          -95.367249,
          -95.3197,
          -95.322203,
          -95.324705,
          -95.327208,
          -95.32971,
          -95.332213,
          -95.334715,
          -95.337218,
          -95.339721,
          -95.342223,
          -95.344726,
          -95.347228,
          -95.349731,
          -95.352234,
          -95.354736,
          -95.357239,
          -95.359741,
          -95.362244,
          -95.364746,
          -95.367249,
          -95.3197,
          -95.322203,
          -95.324705,
          -95.327208,
          -95.32971,
          -95.332213,
          -95.334715,
          -95.337218,
          -95.339721,
          -95.342223,
          -95.344726,
          -95.347228,
          -95.349731,
          -95.352234,
          -95.354736,
          -95.357239,
          -95.359741,
          -95.362244,
          -95.364746,
          -95.367249,
          -95.3197,
          -95.322203,
          -95.324705,
          -95.327208,
          -95.32971,
          -95.332213,
          -95.334715,
          -95.337218,
          -95.339721,
          -95.342223,
          -95.344726,
          -95.347228,
          -95.349731,
          -95.352234,
          -95.354736,
          -95.357239,
          -95.359741,
          -95.362244,
          -95.364746,
          -95.367249,
          -95.486371,
          -95.488869,
          -95.491367,
          -95.493865,
          -95.496363,
          -95.498861,
          -95.501359,
          -95.503857,
          -95.506354,
          -95.508852,
          -95.51135,
          -95.513848,
          -95.516346,
          -95.518844,
          -95.521342,
          -95.52384,
          -95.526338,
          -95.486371,
          -95.488869,
          -95.491367,
          -95.493865,
          -95.496363,
          -95.498861,
          -95.501359,
          -95.503857,
          -95.506354,
          -95.508852,
          -95.51135,
          -95.513848,
          -95.516346,
          -95.518844,
          -95.521342,
          -95.52384,
          -95.526338,
          -95.486371,
          -95.488869,
          -95.491367,
          -95.493865,
          -95.496363,
          -95.498861,
          -95.501359,
          -95.503857,
          -95.506354,
          -95.508852,
          -95.51135,
          -95.513848,
          -95.516346,
          -95.518844,
          -95.521342,
          -95.52384,
          -95.526338,
          -95.486371,
          -95.488869,
          -95.491367,
          -95.493865,
          -95.496363,
          -95.498861,
          -95.501359,
          -95.503857,
          -95.506354,
          -95.508852,
          -95.51135,
          -95.513848,
          -95.516346,
          -95.518844,
          -95.521342,
          -95.52384,
          -95.526338,
          -95.486371,
          -95.488869,
          -95.491367,
          -95.493865,
          -95.496363,
          -95.498861,
          -95.501359,
          -95.503857,
          -95.506354,
          -95.508852,
          -95.51135,
          -95.513848,
          -95.516346,
          -95.518844,
          -95.521342,
          -95.52384,
          -95.526338
         ],
         "marker": {
          "color": "#636efa"
         },
         "mode": "markers",
         "name": "",
         "showlegend": false,
         "subplot": "mapbox",
         "type": "scattermapbox"
        }
       ],
       "layout": {
        "legend": {
         "tracegroupgap": 0
        },
        "mapbox": {
         "accesstoken": "pk.eyJ1IjoidmlzaGFsdmpvc2VwaCIsImEiOiJjbDM2Y3hxaTMzYnlsM2JwZmoxZm9sZjZxIn0.ARpv_l4hUbukED2DPkPuxg",
         "center": {
          "lat": 29.71152265365854,
          "lon": -95.41101009756098
         },
         "domain": {
          "x": [
           0,
           1
          ],
          "y": [
           0,
           1
          ]
         },
         "zoom": 10
        },
        "margin": {
         "t": 60
        },
        "template": {
         "data": {
          "bar": [
           {
            "error_x": {
             "color": "#2a3f5f"
            },
            "error_y": {
             "color": "#2a3f5f"
            },
            "marker": {
             "line": {
              "color": "#E5ECF6",
              "width": 0.5
             },
             "pattern": {
              "fillmode": "overlay",
              "size": 10,
              "solidity": 0.2
             }
            },
            "type": "bar"
           }
          ],
          "barpolar": [
           {
            "marker": {
             "line": {
              "color": "#E5ECF6",
              "width": 0.5
             },
             "pattern": {
              "fillmode": "overlay",
              "size": 10,
              "solidity": 0.2
             }
            },
            "type": "barpolar"
           }
          ],
          "carpet": [
           {
            "aaxis": {
             "endlinecolor": "#2a3f5f",
             "gridcolor": "white",
             "linecolor": "white",
             "minorgridcolor": "white",
             "startlinecolor": "#2a3f5f"
            },
            "baxis": {
             "endlinecolor": "#2a3f5f",
             "gridcolor": "white",
             "linecolor": "white",
             "minorgridcolor": "white",
             "startlinecolor": "#2a3f5f"
            },
            "type": "carpet"
           }
          ],
          "choropleth": [
           {
            "colorbar": {
             "outlinewidth": 0,
             "ticks": ""
            },
            "type": "choropleth"
           }
          ],
          "contour": [
           {
            "colorbar": {
             "outlinewidth": 0,
             "ticks": ""
            },
            "colorscale": [
             [
              0,
              "#0d0887"
             ],
             [
              0.1111111111111111,
              "#46039f"
             ],
             [
              0.2222222222222222,
              "#7201a8"
             ],
             [
              0.3333333333333333,
              "#9c179e"
             ],
             [
              0.4444444444444444,
              "#bd3786"
             ],
             [
              0.5555555555555556,
              "#d8576b"
             ],
             [
              0.6666666666666666,
              "#ed7953"
             ],
             [
              0.7777777777777778,
              "#fb9f3a"
             ],
             [
              0.8888888888888888,
              "#fdca26"
             ],
             [
              1,
              "#f0f921"
             ]
            ],
            "type": "contour"
           }
          ],
          "contourcarpet": [
           {
            "colorbar": {
             "outlinewidth": 0,
             "ticks": ""
            },
            "type": "contourcarpet"
           }
          ],
          "heatmap": [
           {
            "colorbar": {
             "outlinewidth": 0,
             "ticks": ""
            },
            "colorscale": [
             [
              0,
              "#0d0887"
             ],
             [
              0.1111111111111111,
              "#46039f"
             ],
             [
              0.2222222222222222,
              "#7201a8"
             ],
             [
              0.3333333333333333,
              "#9c179e"
             ],
             [
              0.4444444444444444,
              "#bd3786"
             ],
             [
              0.5555555555555556,
              "#d8576b"
             ],
             [
              0.6666666666666666,
              "#ed7953"
             ],
             [
              0.7777777777777778,
              "#fb9f3a"
             ],
             [
              0.8888888888888888,
              "#fdca26"
             ],
             [
              1,
              "#f0f921"
             ]
            ],
            "type": "heatmap"
           }
          ],
          "heatmapgl": [
           {
            "colorbar": {
             "outlinewidth": 0,
             "ticks": ""
            },
            "colorscale": [
             [
              0,
              "#0d0887"
             ],
             [
              0.1111111111111111,
              "#46039f"
             ],
             [
              0.2222222222222222,
              "#7201a8"
             ],
             [
              0.3333333333333333,
              "#9c179e"
             ],
             [
              0.4444444444444444,
              "#bd3786"
             ],
             [
              0.5555555555555556,
              "#d8576b"
             ],
             [
              0.6666666666666666,
              "#ed7953"
             ],
             [
              0.7777777777777778,
              "#fb9f3a"
             ],
             [
              0.8888888888888888,
              "#fdca26"
             ],
             [
              1,
              "#f0f921"
             ]
            ],
            "type": "heatmapgl"
           }
          ],
          "histogram": [
           {
            "marker": {
             "pattern": {
              "fillmode": "overlay",
              "size": 10,
              "solidity": 0.2
             }
            },
            "type": "histogram"
           }
          ],
          "histogram2d": [
           {
            "colorbar": {
             "outlinewidth": 0,
             "ticks": ""
            },
            "colorscale": [
             [
              0,
              "#0d0887"
             ],
             [
              0.1111111111111111,
              "#46039f"
             ],
             [
              0.2222222222222222,
              "#7201a8"
             ],
             [
              0.3333333333333333,
              "#9c179e"
             ],
             [
              0.4444444444444444,
              "#bd3786"
             ],
             [
              0.5555555555555556,
              "#d8576b"
             ],
             [
              0.6666666666666666,
              "#ed7953"
             ],
             [
              0.7777777777777778,
              "#fb9f3a"
             ],
             [
              0.8888888888888888,
              "#fdca26"
             ],
             [
              1,
              "#f0f921"
             ]
            ],
            "type": "histogram2d"
           }
          ],
          "histogram2dcontour": [
           {
            "colorbar": {
             "outlinewidth": 0,
             "ticks": ""
            },
            "colorscale": [
             [
              0,
              "#0d0887"
             ],
             [
              0.1111111111111111,
              "#46039f"
             ],
             [
              0.2222222222222222,
              "#7201a8"
             ],
             [
              0.3333333333333333,
              "#9c179e"
             ],
             [
              0.4444444444444444,
              "#bd3786"
             ],
             [
              0.5555555555555556,
              "#d8576b"
             ],
             [
              0.6666666666666666,
              "#ed7953"
             ],
             [
              0.7777777777777778,
              "#fb9f3a"
             ],
             [
              0.8888888888888888,
              "#fdca26"
             ],
             [
              1,
              "#f0f921"
             ]
            ],
            "type": "histogram2dcontour"
           }
          ],
          "mesh3d": [
           {
            "colorbar": {
             "outlinewidth": 0,
             "ticks": ""
            },
            "type": "mesh3d"
           }
          ],
          "parcoords": [
           {
            "line": {
             "colorbar": {
              "outlinewidth": 0,
              "ticks": ""
             }
            },
            "type": "parcoords"
           }
          ],
          "pie": [
           {
            "automargin": true,
            "type": "pie"
           }
          ],
          "scatter": [
           {
            "fillpattern": {
             "fillmode": "overlay",
             "size": 10,
             "solidity": 0.2
            },
            "type": "scatter"
           }
          ],
          "scatter3d": [
           {
            "line": {
             "colorbar": {
              "outlinewidth": 0,
              "ticks": ""
             }
            },
            "marker": {
             "colorbar": {
              "outlinewidth": 0,
              "ticks": ""
             }
            },
            "type": "scatter3d"
           }
          ],
          "scattercarpet": [
           {
            "marker": {
             "colorbar": {
              "outlinewidth": 0,
              "ticks": ""
             }
            },
            "type": "scattercarpet"
           }
          ],
          "scattergeo": [
           {
            "marker": {
             "colorbar": {
              "outlinewidth": 0,
              "ticks": ""
             }
            },
            "type": "scattergeo"
           }
          ],
          "scattergl": [
           {
            "marker": {
             "colorbar": {
              "outlinewidth": 0,
              "ticks": ""
             }
            },
            "type": "scattergl"
           }
          ],
          "scattermapbox": [
           {
            "marker": {
             "colorbar": {
              "outlinewidth": 0,
              "ticks": ""
             }
            },
            "type": "scattermapbox"
           }
          ],
          "scatterpolar": [
           {
            "marker": {
             "colorbar": {
              "outlinewidth": 0,
              "ticks": ""
             }
            },
            "type": "scatterpolar"
           }
          ],
          "scatterpolargl": [
           {
            "marker": {
             "colorbar": {
              "outlinewidth": 0,
              "ticks": ""
             }
            },
            "type": "scatterpolargl"
           }
          ],
          "scatterternary": [
           {
            "marker": {
             "colorbar": {
              "outlinewidth": 0,
              "ticks": ""
             }
            },
            "type": "scatterternary"
           }
          ],
          "surface": [
           {
            "colorbar": {
             "outlinewidth": 0,
             "ticks": ""
            },
            "colorscale": [
             [
              0,
              "#0d0887"
             ],
             [
              0.1111111111111111,
              "#46039f"
             ],
             [
              0.2222222222222222,
              "#7201a8"
             ],
             [
              0.3333333333333333,
              "#9c179e"
             ],
             [
              0.4444444444444444,
              "#bd3786"
             ],
             [
              0.5555555555555556,
              "#d8576b"
             ],
             [
              0.6666666666666666,
              "#ed7953"
             ],
             [
              0.7777777777777778,
              "#fb9f3a"
             ],
             [
              0.8888888888888888,
              "#fdca26"
             ],
             [
              1,
              "#f0f921"
             ]
            ],
            "type": "surface"
           }
          ],
          "table": [
           {
            "cells": {
             "fill": {
              "color": "#EBF0F8"
             },
             "line": {
              "color": "white"
             }
            },
            "header": {
             "fill": {
              "color": "#C8D4E3"
             },
             "line": {
              "color": "white"
             }
            },
            "type": "table"
           }
          ]
         },
         "layout": {
          "annotationdefaults": {
           "arrowcolor": "#2a3f5f",
           "arrowhead": 0,
           "arrowwidth": 1
          },
          "autotypenumbers": "strict",
          "coloraxis": {
           "colorbar": {
            "outlinewidth": 0,
            "ticks": ""
           }
          },
          "colorscale": {
           "diverging": [
            [
             0,
             "#8e0152"
            ],
            [
             0.1,
             "#c51b7d"
            ],
            [
             0.2,
             "#de77ae"
            ],
            [
             0.3,
             "#f1b6da"
            ],
            [
             0.4,
             "#fde0ef"
            ],
            [
             0.5,
             "#f7f7f7"
            ],
            [
             0.6,
             "#e6f5d0"
            ],
            [
             0.7,
             "#b8e186"
            ],
            [
             0.8,
             "#7fbc41"
            ],
            [
             0.9,
             "#4d9221"
            ],
            [
             1,
             "#276419"
            ]
           ],
           "sequential": [
            [
             0,
             "#0d0887"
            ],
            [
             0.1111111111111111,
             "#46039f"
            ],
            [
             0.2222222222222222,
             "#7201a8"
            ],
            [
             0.3333333333333333,
             "#9c179e"
            ],
            [
             0.4444444444444444,
             "#bd3786"
            ],
            [
             0.5555555555555556,
             "#d8576b"
            ],
            [
             0.6666666666666666,
             "#ed7953"
            ],
            [
             0.7777777777777778,
             "#fb9f3a"
            ],
            [
             0.8888888888888888,
             "#fdca26"
            ],
            [
             1,
             "#f0f921"
            ]
           ],
           "sequentialminus": [
            [
             0,
             "#0d0887"
            ],
            [
             0.1111111111111111,
             "#46039f"
            ],
            [
             0.2222222222222222,
             "#7201a8"
            ],
            [
             0.3333333333333333,
             "#9c179e"
            ],
            [
             0.4444444444444444,
             "#bd3786"
            ],
            [
             0.5555555555555556,
             "#d8576b"
            ],
            [
             0.6666666666666666,
             "#ed7953"
            ],
            [
             0.7777777777777778,
             "#fb9f3a"
            ],
            [
             0.8888888888888888,
             "#fdca26"
            ],
            [
             1,
             "#f0f921"
            ]
           ]
          },
          "colorway": [
           "#636efa",
           "#EF553B",
           "#00cc96",
           "#ab63fa",
           "#FFA15A",
           "#19d3f3",
           "#FF6692",
           "#B6E880",
           "#FF97FF",
           "#FECB52"
          ],
          "font": {
           "color": "#2a3f5f"
          },
          "geo": {
           "bgcolor": "white",
           "lakecolor": "white",
           "landcolor": "#E5ECF6",
           "showlakes": true,
           "showland": true,
           "subunitcolor": "white"
          },
          "hoverlabel": {
           "align": "left"
          },
          "hovermode": "closest",
          "mapbox": {
           "style": "light"
          },
          "paper_bgcolor": "white",
          "plot_bgcolor": "#E5ECF6",
          "polar": {
           "angularaxis": {
            "gridcolor": "white",
            "linecolor": "white",
            "ticks": ""
           },
           "bgcolor": "#E5ECF6",
           "radialaxis": {
            "gridcolor": "white",
            "linecolor": "white",
            "ticks": ""
           }
          },
          "scene": {
           "xaxis": {
            "backgroundcolor": "#E5ECF6",
            "gridcolor": "white",
            "gridwidth": 2,
            "linecolor": "white",
            "showbackground": true,
            "ticks": "",
            "zerolinecolor": "white"
           },
           "yaxis": {
            "backgroundcolor": "#E5ECF6",
            "gridcolor": "white",
            "gridwidth": 2,
            "linecolor": "white",
            "showbackground": true,
            "ticks": "",
            "zerolinecolor": "white"
           },
           "zaxis": {
            "backgroundcolor": "#E5ECF6",
            "gridcolor": "white",
            "gridwidth": 2,
            "linecolor": "white",
            "showbackground": true,
            "ticks": "",
            "zerolinecolor": "white"
           }
          },
          "shapedefaults": {
           "line": {
            "color": "#2a3f5f"
           }
          },
          "ternary": {
           "aaxis": {
            "gridcolor": "white",
            "linecolor": "white",
            "ticks": ""
           },
           "baxis": {
            "gridcolor": "white",
            "linecolor": "white",
            "ticks": ""
           },
           "bgcolor": "#E5ECF6",
           "caxis": {
            "gridcolor": "white",
            "linecolor": "white",
            "ticks": ""
           }
          },
          "title": {
           "x": 0.05
          },
          "xaxis": {
           "automargin": true,
           "gridcolor": "white",
           "linecolor": "white",
           "ticks": "",
           "title": {
            "standoff": 15
           },
           "zerolinecolor": "white",
           "zerolinewidth": 2
          },
          "yaxis": {
           "automargin": true,
           "gridcolor": "white",
           "linecolor": "white",
           "ticks": "",
           "title": {
            "standoff": 15
           },
           "zerolinecolor": "white",
           "zerolinewidth": 2
          }
         }
        }
       }
      }
     },
     "metadata": {},
     "output_type": "display_data"
    }
   ],
   "source": [
    "# neighborhood 1\n",
    "px.set_mapbox_access_token(\"pk.eyJ1IjoidmlzaGFsdmpvc2VwaCIsImEiOiJjbDM2Y3hxaTMzYnlsM2JwZmoxZm9sZjZxIn0.ARpv_l4hUbukED2DPkPuxg\")\n",
    "fig = px.scatter_mapbox(df_predict, lat=\"lat\", lon=\"lon\", size_max=1, zoom=10)\n",
    "fig.show()"
   ]
  },
  {
   "cell_type": "code",
   "execution_count": 120,
   "metadata": {},
   "outputs": [],
   "source": [
    "# Export\n",
    "filepath = \"../../data/cleaned/predict.csv\"\n",
    "df_predict.to_csv(filepath)"
   ]
  }
 ],
 "metadata": {
  "interpreter": {
   "hash": "b0fa6594d8f4cbf19f97940f81e996739fb7646882a419484c72d19e05852a7e"
  },
  "kernelspec": {
   "display_name": "Python 3.9.13 64-bit",
   "language": "python",
   "name": "python3"
  },
  "language_info": {
   "codemirror_mode": {
    "name": "ipython",
    "version": 3
   },
   "file_extension": ".py",
   "mimetype": "text/x-python",
   "name": "python",
   "nbconvert_exporter": "python",
   "pygments_lexer": "ipython3",
   "version": "3.9.13"
  },
  "orig_nbformat": 4
 },
 "nbformat": 4,
 "nbformat_minor": 2
}
