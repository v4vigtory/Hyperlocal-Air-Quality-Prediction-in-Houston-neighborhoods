{
 "cells": [
  {
   "cell_type": "code",
   "execution_count": 37,
   "id": "ebad87c9",
   "metadata": {},
   "outputs": [],
   "source": [
    "#Import basic python packages for data analysis and plotting\n",
    "import pandas as pd\n",
    "import numpy as np\n",
    "import matplotlib.pyplot as plt\n",
    "from matplotlib import cm\n",
    "import matplotlib.lines as mlines\n",
    "import pylab as plot\n",
    "import matplotlib\n",
    "import random\n",
    "import seaborn as sns\n",
    "from sklearn.model_selection import train_test_split\n",
    "from sklearn.preprocessing import StandardScaler\n",
    "from mpl_toolkits.axes_grid1 import make_axes_locatable\n",
    "import math\n",
    "import time\n",
    "import os\n",
    "\n",
    "import torch"
   ]
  },
  {
   "cell_type": "markdown",
   "id": "685644f4",
   "metadata": {},
   "source": [
    "## Pytorch practice"
   ]
  },
  {
   "cell_type": "code",
   "execution_count": 50,
   "id": "14e395d7",
   "metadata": {},
   "outputs": [
    {
     "name": "stdout",
     "output_type": "stream",
     "text": [
      "n: [1. 1. 1. 1. 1.]\n",
      "t: tensor([2., 2., 2., 2., 2.])\n",
      "n: [2. 2. 2. 2. 2.]\n"
     ]
    }
   ],
   "source": [
    "data = [[1, 2],[3, 4]]\n",
    "x_data = torch.tensor(data)\n",
    "x_data\n",
    "\n",
    "shape = (2,3,)\n",
    "rand_tensor = torch.rand(shape)\n",
    "rand_tensor\n",
    "\n",
    "tensor = torch.ones(4, 4)\n",
    "tensor.shape\n",
    "\n",
    "t1 = torch.cat([tensor, tensor, tensor], dim=-2)\n",
    "\n",
    "t = torch.ones(5)\n",
    "t\n",
    "\n",
    "n = t.numpy()\n",
    "print(f\"n: {n}\")\n",
    "\n",
    "t.add_(1)\n",
    "print(f\"t: {t}\")\n",
    "print(f\"n: {n}\")"
   ]
  },
  {
   "cell_type": "code",
   "execution_count": 56,
   "id": "93ed78b2",
   "metadata": {},
   "outputs": [
    {
     "data": {
      "text/plain": [
       "tensor(10.)"
      ]
     },
     "execution_count": 56,
     "metadata": {},
     "output_type": "execute_result"
    }
   ],
   "source": [
    "t.sum()"
   ]
  },
  {
   "cell_type": "markdown",
   "id": "03bdbd82",
   "metadata": {},
   "source": [
    "## (A) Dataset prep"
   ]
  },
  {
   "cell_type": "code",
   "execution_count": 38,
   "id": "d2d52ad6",
   "metadata": {},
   "outputs": [
    {
     "name": "stderr",
     "output_type": "stream",
     "text": [
      "/var/folders/f8/zhyxbtd52514w0pg6p51k9q40000gn/T/ipykernel_41119/3021703729.py:16: FutureWarning: In a future version of pandas all arguments of DataFrame.drop except for the argument 'labels' will be keyword-only.\n",
      "  X = df_merged.drop(\"value\",1)\n"
     ]
    }
   ],
   "source": [
    "# merge all datasets to create master_df\n",
    "\n",
    "root = os.path.dirname(os.path.dirname(os.getcwd()))\n",
    "\n",
    "df_aq = pd.read_csv(root + \"/data/cleaned/air_quality_NO2.csv\", index_col=0)[['value','latitude', 'longitude']]\n",
    "df_met = pd.read_csv(root + \"/data/cleaned/nO2_met.csv\", index_col=0)\n",
    "df_fac = pd.read_csv(root + \"/data/cleaned/no2_fac_data.csv\", index_col=0)\n",
    "# df_fac.drop(df_fac.columns[df_fac.columns.str.contains('_emsdist')], axis=1, inplace=True)\n",
    "df_traffic = pd.read_csv(root + \"/data/cleaned/intersection_final.csv\", index_col=0)\n",
    "\n",
    "df_m1 = df_aq.merge(df_met, on = ['latitude', 'longitude'], how = 'inner')\n",
    "df_m2 = df_m1.merge(df_fac, on = ['latitude', 'longitude'], how = 'inner')\n",
    "df_merged = df_m2.merge(df_traffic, on = ['latitude', 'longitude'], how = 'inner')\n",
    "df_merged.drop(columns = ['latitude', 'longitude'], inplace=True)\n",
    "\n",
    "X = df_merged.drop(\"value\",1) \n",
    "y = df_merged[\"value\"]"
   ]
  },
  {
   "cell_type": "code",
   "execution_count": 39,
   "id": "2b52e347",
   "metadata": {},
   "outputs": [],
   "source": [
    "# function to scale and transform input data\n",
    "def get_data(X, y):\n",
    "    X = X.values\n",
    "    y = y.values\n",
    "    # scaling the data\n",
    "    feature_scaler = StandardScaler()\n",
    "    X = feature_scaler.fit_transform(X)\n",
    "    return X, y\n",
    "\n",
    "# acquiring transformed data\n",
    "X_arr, y_arr = get_data(X, y)\n",
    "\n",
    "# splitting into test and train\n",
    "X_train, X_test, y_train, y_test = train_test_split(X_arr, y_arr, test_size=0.3)\n",
    "cols = np.array(X.columns)"
   ]
  },
  {
   "cell_type": "markdown",
   "id": "a25610e2",
   "metadata": {},
   "source": [
    "## (B) Modeling"
   ]
  },
  {
   "cell_type": "code",
   "execution_count": 45,
   "id": "3e847a1e",
   "metadata": {},
   "outputs": [],
   "source": [
    "# dataset class for feeding in data\n",
    "class AirQualityDataset(torch.utils.data.Dataset):\n",
    "\n",
    "  def __init__(self, X_arr, y_arr):\n",
    "    self.x_data = torch.tensor(X_arr, \\\n",
    "      dtype=torch.float32)\n",
    "    self.y_data = torch.tensor(y_arr, \\\n",
    "      dtype=torch.float32)\n",
    "\n",
    "  def __len__(self):\n",
    "    return len(self.x_data)\n",
    "\n",
    "  def __getitem__(self, idx):\n",
    "    preds = self.x_data[idx,:]  # or just [idx]\n",
    "    conc = self.y_data[idx] \n",
    "    return (preds, conc)       # tuple of matrices\n",
    "\n",
    "# prepping data for training\n",
    "batch_size = 64\n",
    "train_ds = AirQualityDataset(X_train, y_train)\n",
    "test_ds = AirQualityDataset(X_test, y_test)\n",
    "train_ldr = torch.utils.data.DataLoader(train_ds, batch_size=batch_size, shuffle=True)\n",
    "test_ldr = torch.utils.data.DataLoader(test_ds, batch_size=batch_size, shuffle=True)"
   ]
  },
  {
   "cell_type": "code",
   "execution_count": 58,
   "id": "05845b65",
   "metadata": {},
   "outputs": [],
   "source": [
    "# network architecture\n",
    "class NeuralNetwork(torch.nn.Module):\n",
    "    def __init__(self):\n",
    "        super(NeuralNetwork, self).__init__()\n",
    "        self.linear_relu_stack = torch.nn.Sequential(\n",
    "            torch.nn.Linear(82, 30),\n",
    "            torch.nn.ReLU(),\n",
    "            torch.nn.Linear(30, 30),\n",
    "            torch.nn.ReLU(),\n",
    "            torch.nn.Linear(30, 1),\n",
    "        )\n",
    "\n",
    "    def forward(self, x):\n",
    "        pred_conc = self.linear_relu_stack(x)\n",
    "        return pred_conc"
   ]
  },
  {
   "cell_type": "code",
   "execution_count": 59,
   "id": "65dc87e4",
   "metadata": {},
   "outputs": [
    {
     "name": "stdout",
     "output_type": "stream",
     "text": [
      "NeuralNetwork(\n",
      "  (linear_relu_stack): Sequential(\n",
      "    (0): Linear(in_features=82, out_features=30, bias=True)\n",
      "    (1): ReLU()\n",
      "    (2): Linear(in_features=30, out_features=30, bias=True)\n",
      "    (3): ReLU()\n",
      "    (4): Linear(in_features=30, out_features=1, bias=True)\n",
      "  )\n",
      ")\n",
      "Layer: linear_relu_stack.0.weight | Size: torch.Size([30, 82]) | Values : tensor([[ 0.0711,  0.0862, -0.0837, -0.0313,  0.0060,  0.0882,  0.0062,  0.1098,\n",
      "          0.0945, -0.0447,  0.0521, -0.0102,  0.0528,  0.0277,  0.0777, -0.0299,\n",
      "          0.0023,  0.0891, -0.1081,  0.0714,  0.1047, -0.0721,  0.0096, -0.0374,\n",
      "         -0.0036, -0.0153,  0.0005,  0.0795,  0.0665, -0.0435,  0.0620, -0.0652,\n",
      "          0.0344, -0.1038, -0.0098,  0.0268, -0.0803,  0.0155,  0.0569,  0.0642,\n",
      "         -0.1034,  0.0868,  0.0784, -0.0442, -0.0621, -0.0739, -0.0211, -0.1031,\n",
      "          0.0683, -0.0965,  0.0502, -0.0412, -0.0050, -0.0797, -0.1089, -0.0950,\n",
      "          0.0564,  0.0956,  0.0557, -0.1011,  0.0364, -0.0131, -0.0120, -0.0118,\n",
      "          0.0740, -0.0543, -0.0395, -0.0441,  0.0045,  0.0323,  0.0898, -0.0065,\n",
      "          0.0279, -0.0050, -0.0578,  0.0126, -0.0147, -0.0209,  0.0045, -0.0561,\n",
      "          0.0893, -0.0417],\n",
      "        [-0.0283,  0.0843,  0.0418, -0.0662, -0.0172,  0.1047, -0.0926, -0.0876,\n",
      "          0.0737, -0.0257,  0.0082,  0.0790, -0.0666,  0.0870,  0.0185,  0.0215,\n",
      "         -0.0803,  0.1092,  0.0402, -0.0041,  0.0621,  0.0892,  0.0611, -0.0900,\n",
      "         -0.0615,  0.0996,  0.0365, -0.0045,  0.0456,  0.0082,  0.0111, -0.0781,\n",
      "          0.0150,  0.0760, -0.0537, -0.0640,  0.0821, -0.0200, -0.0701,  0.0161,\n",
      "          0.1022, -0.0734,  0.0054, -0.0584,  0.0100, -0.0466,  0.0932, -0.0445,\n",
      "         -0.0780,  0.0049, -0.0439, -0.0306,  0.1019, -0.0262,  0.0945, -0.0731,\n",
      "          0.0199, -0.0144, -0.0977, -0.0192,  0.0861,  0.0701,  0.1094, -0.0572,\n",
      "         -0.0332, -0.0651,  0.0222,  0.0825, -0.0667,  0.0824, -0.0269,  0.0201,\n",
      "         -0.0003,  0.0284, -0.0386,  0.0541,  0.0300,  0.0442,  0.1066, -0.1019,\n",
      "         -0.0420, -0.0688]], grad_fn=<SliceBackward0>) \n",
      "\n",
      "Layer: linear_relu_stack.0.bias | Size: torch.Size([30]) | Values : tensor([0.0381, 0.0231], grad_fn=<SliceBackward0>) \n",
      "\n",
      "Layer: linear_relu_stack.2.weight | Size: torch.Size([30, 30]) | Values : tensor([[-0.1388, -0.0025, -0.0413, -0.1069, -0.1063, -0.0508, -0.0165, -0.0631,\n",
      "          0.1810, -0.0706,  0.0211, -0.1057, -0.0649, -0.1677,  0.0829,  0.0368,\n",
      "          0.1010, -0.1590, -0.0699,  0.0003,  0.1047,  0.0445,  0.1071, -0.0957,\n",
      "         -0.0418,  0.1521, -0.1145,  0.0440,  0.1716,  0.1411],\n",
      "        [-0.1077,  0.1784, -0.0341,  0.1133,  0.1788,  0.1173,  0.1771, -0.0634,\n",
      "         -0.1264,  0.1725,  0.1275,  0.0897, -0.1723, -0.1699,  0.1657, -0.1088,\n",
      "          0.1356, -0.0025,  0.0440,  0.0246,  0.1238,  0.0485,  0.0200,  0.0505,\n",
      "          0.0528, -0.1468,  0.0253,  0.1233, -0.0399,  0.1731]],\n",
      "       grad_fn=<SliceBackward0>) \n",
      "\n",
      "Layer: linear_relu_stack.2.bias | Size: torch.Size([30]) | Values : tensor([-0.1356,  0.0734], grad_fn=<SliceBackward0>) \n",
      "\n",
      "Layer: linear_relu_stack.4.weight | Size: torch.Size([1, 30]) | Values : tensor([[-0.0877, -0.0363,  0.0664, -0.1745,  0.1368,  0.0402, -0.0374, -0.0023,\n",
      "          0.1376,  0.1027, -0.1767, -0.1514, -0.1545,  0.0550,  0.0193,  0.0185,\n",
      "          0.1822,  0.1189,  0.1712,  0.0957,  0.1067, -0.0640, -0.0934,  0.1748,\n",
      "         -0.1398, -0.0996,  0.1811,  0.1501,  0.0725, -0.0560]],\n",
      "       grad_fn=<SliceBackward0>) \n",
      "\n",
      "Layer: linear_relu_stack.4.bias | Size: torch.Size([1]) | Values : tensor([-0.0687], grad_fn=<SliceBackward0>) \n",
      "\n"
     ]
    }
   ],
   "source": [
    "# creating model instance\n",
    "model = NeuralNetwork()\n",
    "print(model)\n",
    "\n",
    "for name, param in model.named_parameters():\n",
    "    print(f\"Layer: {name} | Size: {param.size()} | Values : {param[:2]} \\n\")\n",
    "    \n",
    "# initialising hyperparameters\n",
    "learning_rate = 1e-3\n",
    "epochs = 5\n",
    "\n",
    "# initializing the loss function\n",
    "loss_fn = torch.nn.MSELoss()\n",
    "\n",
    "# initializing the optimizer\n",
    "optimizer = torch.optim.SGD(model.parameters(), lr=learning_rate)"
   ]
  },
  {
   "cell_type": "code",
   "execution_count": 60,
   "id": "e4b0da2f",
   "metadata": {},
   "outputs": [],
   "source": [
    "# defining train and test loops\n",
    "\n",
    "def train_loop(dataloader, model, loss_fn, optimizer):\n",
    "    size = len(dataloader.dataset)\n",
    "    for batch, (X, y) in enumerate(dataloader):\n",
    "        # Compute prediction and loss\n",
    "        pred = model(X)\n",
    "        loss = loss_fn(pred, y)\n",
    "\n",
    "        # Backpropagation\n",
    "        optimizer.zero_grad()\n",
    "        loss.backward()\n",
    "        optimizer.step()\n",
    "\n",
    "        if batch % 100 == 0:\n",
    "            loss, current = loss.item(), batch * len(X)\n",
    "            print(f\"loss: {loss:>7f}  [{current:>5d}/{size:>5d}]\")\n",
    "\n",
    "\n",
    "def test_loop(dataloader, model, loss_fn):\n",
    "    size = len(dataloader.dataset)\n",
    "    num_batches = len(dataloader)\n",
    "    test_loss = 0\n",
    "\n",
    "    with torch.no_grad():\n",
    "        for X, y in dataloader:\n",
    "            pred = model(X)\n",
    "            test_loss += loss_fn(pred, y).item()\n",
    "\n",
    "    test_loss /= num_batches\n",
    "    print(f\"Test Error: Avg loss: {test_loss:>8f} \\n\")"
   ]
  },
  {
   "cell_type": "code",
   "execution_count": 61,
   "id": "84d1797a",
   "metadata": {},
   "outputs": [
    {
     "name": "stdout",
     "output_type": "stream",
     "text": [
      "Epoch 1\n",
      "-------------------------------\n",
      "loss: 0.021040  [    0/ 7919]\n",
      "loss: 0.018013  [ 6400/ 7919]\n",
      "Test Error: Avg loss: 0.007193 \n",
      "\n",
      "Epoch 2\n",
      "-------------------------------\n",
      "loss: 0.004702  [    0/ 7919]\n",
      "loss: 0.006121  [ 6400/ 7919]\n",
      "Test Error: Avg loss: 0.005303 \n",
      "\n",
      "Epoch 3\n",
      "-------------------------------\n",
      "loss: 0.003678  [    0/ 7919]\n",
      "loss: 0.003023  [ 6400/ 7919]\n",
      "Test Error: Avg loss: 0.004612 \n",
      "\n",
      "Epoch 4\n",
      "-------------------------------\n",
      "loss: 0.003738  [    0/ 7919]\n",
      "loss: 0.004570  [ 6400/ 7919]\n",
      "Test Error: Avg loss: 0.003447 \n",
      "\n",
      "Epoch 5\n",
      "-------------------------------\n",
      "loss: 0.002368  [    0/ 7919]\n",
      "loss: 0.003972  [ 6400/ 7919]\n",
      "Test Error: Avg loss: 0.002944 \n",
      "\n",
      "Done!\n"
     ]
    }
   ],
   "source": [
    "# executing training and testing\n",
    "for t in range(epochs):\n",
    "    print(f\"Epoch {t+1}\\n-------------------------------\")\n",
    "    train_loop(train_ldr, model, loss_fn, optimizer)\n",
    "    test_loop(test_ldr, model, loss_fn)\n",
    "print(\"Done!\")"
   ]
  },
  {
   "cell_type": "code",
   "execution_count": null,
   "id": "2c16f62f",
   "metadata": {},
   "outputs": [],
   "source": []
  }
 ],
 "metadata": {
  "interpreter": {
   "hash": "b0fa6594d8f4cbf19f97940f81e996739fb7646882a419484c72d19e05852a7e"
  },
  "kernelspec": {
   "display_name": "Python 3 (ipykernel)",
   "language": "python",
   "name": "python3"
  },
  "language_info": {
   "codemirror_mode": {
    "name": "ipython",
    "version": 3
   },
   "file_extension": ".py",
   "mimetype": "text/x-python",
   "name": "python",
   "nbconvert_exporter": "python",
   "pygments_lexer": "ipython3",
   "version": "3.9.12"
  },
  "toc": {
   "base_numbering": 1,
   "nav_menu": {},
   "number_sections": true,
   "sideBar": true,
   "skip_h1_title": false,
   "title_cell": "Table of Contents",
   "title_sidebar": "Contents",
   "toc_cell": false,
   "toc_position": {},
   "toc_section_display": true,
   "toc_window_display": false
  }
 },
 "nbformat": 4,
 "nbformat_minor": 5
}
