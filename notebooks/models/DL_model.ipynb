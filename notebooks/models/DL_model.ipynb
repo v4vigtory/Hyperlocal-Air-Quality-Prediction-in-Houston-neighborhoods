{
 "cells": [
  {
   "cell_type": "code",
   "execution_count": 1,
   "metadata": {},
   "outputs": [],
   "source": [
    "#Import basic python packages for data analysis and plotting\n",
    "import pandas as pd\n",
    "import numpy as np\n",
    "import matplotlib.pyplot as plt\n",
    "from matplotlib import cm\n",
    "import matplotlib.lines as mlines\n",
    "import pylab as plot\n",
    "import matplotlib\n",
    "import random\n",
    "import seaborn as sns\n",
    "from sklearn.model_selection import train_test_split\n",
    "from sklearn.preprocessing import StandardScaler\n",
    "from mpl_toolkits.axes_grid1 import make_axes_locatable\n",
    "import math\n",
    "import time\n",
    "import os\n",
    "\n",
    "import torch"
   ]
  },
  {
   "cell_type": "markdown",
   "metadata": {},
   "source": [
    "## Pytorch practice"
   ]
  },
  {
   "cell_type": "code",
   "execution_count": 31,
   "metadata": {},
   "outputs": [
    {
     "name": "stdout",
     "output_type": "stream",
     "text": [
      "n: [1. 1. 1. 1. 1.]\n",
      "t: tensor([2., 2., 2., 2., 2.])\n",
      "n: [2. 2. 2. 2. 2.]\n"
     ]
    }
   ],
   "source": [
    "data = [[1, 2],[3, 4]]\n",
    "x_data = torch.tensor(data)\n",
    "x_data\n",
    "\n",
    "shape = (2,3,)\n",
    "rand_tensor = torch.rand(shape)\n",
    "rand_tensor\n",
    "\n",
    "tensor = torch.ones(4, 4)\n",
    "tensor.shape\n",
    "\n",
    "t1 = torch.cat([tensor, tensor, tensor], dim=-2)\n",
    "\n",
    "t = torch.ones(5)\n",
    "t\n",
    "\n",
    "n = t.numpy()\n",
    "print(f\"n: {n}\")\n",
    "\n",
    "t.add_(1)\n",
    "print(f\"t: {t}\")\n",
    "print(f\"n: {n}\")"
   ]
  },
  {
   "cell_type": "code",
   "execution_count": 32,
   "metadata": {},
   "outputs": [
    {
     "data": {
      "text/plain": [
       "tensor(10.)"
      ]
     },
     "execution_count": 32,
     "metadata": {},
     "output_type": "execute_result"
    }
   ],
   "source": [
    "t.sum()"
   ]
  },
  {
   "cell_type": "markdown",
   "metadata": {},
   "source": [
    "## (A) Dataset prep"
   ]
  },
  {
   "cell_type": "code",
   "execution_count": 21,
   "metadata": {},
   "outputs": [],
   "source": [
    "# merge all datasets to create master_df\n",
    "\n",
    "root = os.path.dirname(os.path.dirname(os.getcwd()))\n",
    "\n",
    "df_aq = pd.read_csv(root + \"/data/cleaned/air_quality_NO2.csv\", index_col=0)[['value','latitude', 'longitude']]\n",
    "df_met = pd.read_csv(root + \"/data/cleaned/nO2_met.csv\", index_col=0)\n",
    "df_fac = pd.read_csv(root + \"/data/cleaned/no2_fac_data.csv\", index_col=0)\n",
    "# df_fac.drop(df_fac.columns[df_fac.columns.str.contains('_emsdist')], axis=1, inplace=True)\n",
    "df_traffic = pd.read_csv(root + \"/data/cleaned/intersection_final.csv\", index_col=0)\n",
    "\n",
    "df_m1 = df_aq.merge(df_met, on = ['latitude', 'longitude'], how = 'inner')\n",
    "df_m2 = df_m1.merge(df_fac, on = ['latitude', 'longitude'], how = 'inner')\n",
    "df_merged = df_m2.merge(df_traffic, on = ['latitude', 'longitude'], how = 'inner')\n",
    "df_merged.drop(columns = ['latitude', 'longitude'], inplace=True)\n",
    "\n",
    "X = df_merged.drop(\"value\",1) \n",
    "y = df_merged[\"value\"]"
   ]
  },
  {
   "cell_type": "code",
   "execution_count": 22,
   "metadata": {},
   "outputs": [],
   "source": [
    "# function to scale and transform input data\n",
    "# def get_data(X, y):\n",
    "#     X = X.values\n",
    "#     y = y.values\n",
    "#     # scaling the data\n",
    "#     feature_scaler = StandardScaler()\n",
    "#     X = feature_scaler.fit_transform(X)\n",
    "#     return X, y\n",
    "\n",
    "# # acquiring transformed data\n",
    "# X_arr, y_arr = get_data(X, y)\n",
    "\n",
    "# # splitting into test and train\n",
    "# X_train, X_test, y_train, y_test = train_test_split(X_arr, y_arr, test_size=0.3)\n",
    "# cols = np.array(X.columns)"
   ]
  },
  {
   "cell_type": "code",
   "execution_count": 40,
   "metadata": {},
   "outputs": [],
   "source": [
    "# splitting into test and train\n",
    "X_train, X_test, y_train, y_test = train_test_split(np.array(X), np.array(y), test_size=0.3)\n",
    "cols = np.array(X.columns)"
   ]
  },
  {
   "cell_type": "markdown",
   "metadata": {},
   "source": [
    "## (B) Modeling"
   ]
  },
  {
   "cell_type": "code",
   "execution_count": 41,
   "metadata": {},
   "outputs": [],
   "source": [
    "# dataset class for feeding in data\n",
    "class AirQualityDataset(torch.utils.data.Dataset):\n",
    "\n",
    "  def __init__(self, X_arr, y_arr):\n",
    "    self.x_data = torch.tensor(X_arr, \\\n",
    "      dtype=torch.float32)\n",
    "    self.y_data = torch.tensor(y_arr, \\\n",
    "      dtype=torch.float32)\n",
    "\n",
    "  def __len__(self):\n",
    "    return len(self.x_data)\n",
    "\n",
    "  def __getitem__(self, idx):\n",
    "    preds = self.x_data[idx,:]  # or just [idx]\n",
    "    conc = self.y_data[idx] \n",
    "    return (preds, conc)       # tuple of matrices\n",
    "\n",
    "# prepping data for training\n",
    "batch_size = 64\n",
    "train_ds = AirQualityDataset(X_train, y_train)\n",
    "test_ds = AirQualityDataset(X_test, y_test)\n",
    "train_ldr = torch.utils.data.DataLoader(train_ds, batch_size=batch_size, shuffle=True)\n",
    "test_ldr = torch.utils.data.DataLoader(test_ds, batch_size=batch_size, shuffle=True)"
   ]
  },
  {
   "cell_type": "code",
   "execution_count": 42,
   "metadata": {},
   "outputs": [],
   "source": [
    "# network architecture\n",
    "# class NeuralNetwork(torch.nn.Module):\n",
    "#     def __init__(self):\n",
    "#         super(NeuralNetwork, self).__init__()\n",
    "#         self.linear_relu_stack = torch.nn.Sequential(\n",
    "#             torch.nn.Linear(82, 30),\n",
    "#             torch.nn.ReLU(),\n",
    "#             torch.nn.Linear(30, 30),\n",
    "#             torch.nn.ReLU(),\n",
    "#             torch.nn.Linear(30, 1),\n",
    "#         )\n",
    "\n",
    "#     def forward(self, x):\n",
    "#         pred_conc = self.linear_relu_stack(x)\n",
    "#         return pred_conc"
   ]
  },
  {
   "cell_type": "code",
   "execution_count": 43,
   "metadata": {},
   "outputs": [
    {
     "ename": "SyntaxError",
     "evalue": "invalid syntax (<ipython-input-43-a89d270dedf8>, line 11)",
     "output_type": "error",
     "traceback": [
      "\u001b[0;36m  File \u001b[0;32m\"<ipython-input-43-a89d270dedf8>\"\u001b[0;36m, line \u001b[0;32m11\u001b[0m\n\u001b[0;31m    torch.nn.Linear(30, 20),\u001b[0m\n\u001b[0m    ^\u001b[0m\n\u001b[0;31mSyntaxError\u001b[0m\u001b[0;31m:\u001b[0m invalid syntax\n"
     ]
    }
   ],
   "source": [
    "# network architecture\n",
    "class NeuralNetwork(torch.nn.Module):\n",
    "    def __init__(self):\n",
    "        super(NeuralNetwork, self).__init__()\n",
    "        self.linear_relu_stack = torch.nn.Sequential(\n",
    "            torch.nn.Linear(82, 40),\n",
    "            torch.nn.Tanh(),\n",
    "            torch.nn.Linear(40, 30),\n",
    "            torch.nn.Tanh(),\n",
    "            torch.nn.Dropout(p=0.2)\n",
    "            torch.nn.Linear(30, 20),\n",
    "            torch.nn.Tanh(),\n",
    "            torch.nn.Linear(20, 20),\n",
    "            torch.nn.Tanh(),\n",
    "            torch.nn.Linear(20, 1),\n",
    "        )\n",
    "\n",
    "    def forward(self, x):\n",
    "        pred_conc = self.linear_relu_stack(x)\n",
    "        return pred_conc"
   ]
  },
  {
   "cell_type": "code",
   "execution_count": 44,
   "metadata": {},
   "outputs": [
    {
     "name": "stdout",
     "output_type": "stream",
     "text": [
      "NeuralNetwork(\n",
      "  (linear_relu_stack): Sequential(\n",
      "    (0): Linear(in_features=82, out_features=40, bias=True)\n",
      "    (1): Tanh()\n",
      "    (2): Linear(in_features=40, out_features=30, bias=True)\n",
      "    (3): Tanh()\n",
      "    (4): Linear(in_features=30, out_features=20, bias=True)\n",
      "    (5): Tanh()\n",
      "    (6): Linear(in_features=20, out_features=20, bias=True)\n",
      "    (7): Tanh()\n",
      "    (8): Linear(in_features=20, out_features=1, bias=True)\n",
      "  )\n",
      ")\n",
      "Layer: linear_relu_stack.0.weight | Size: torch.Size([40, 82]) | Values : tensor([[-5.2547e-02, -8.4424e-02,  8.0228e-02, -3.0330e-02,  9.3842e-02,\n",
      "         -7.8985e-02,  3.3429e-02,  5.7034e-02, -4.7744e-02,  1.7889e-02,\n",
      "         -3.3550e-02,  6.9205e-02,  9.0955e-02,  6.7328e-02,  1.0035e-01,\n",
      "          2.9098e-02,  1.0720e-01,  1.0054e-01, -7.0013e-02, -2.1861e-02,\n",
      "          9.0723e-02, -9.6244e-02, -1.0984e-01, -6.0199e-02,  5.7629e-02,\n",
      "         -8.2884e-02,  7.0488e-02,  1.0986e-01, -1.0832e-01, -4.3913e-02,\n",
      "          3.4585e-02, -3.2573e-02, -3.9653e-02,  4.1680e-02, -9.3188e-02,\n",
      "         -9.7084e-02,  6.7336e-02,  4.3942e-02, -3.2157e-02,  2.7972e-02,\n",
      "          6.2910e-02,  6.2930e-02, -6.3687e-02,  2.6126e-02,  2.6628e-05,\n",
      "          7.9013e-02, -3.2489e-02,  3.9088e-02,  6.6024e-03, -8.4476e-02,\n",
      "          5.1117e-02, -3.2523e-02, -1.0769e-01,  7.2104e-02,  8.5335e-02,\n",
      "          7.2077e-02, -4.8287e-02,  1.7597e-02, -5.5341e-02,  2.6115e-02,\n",
      "          1.0617e-01, -8.2984e-03,  3.4904e-02,  6.3746e-02, -2.8367e-02,\n",
      "         -6.9909e-02, -3.7083e-03, -1.0062e-01, -1.0622e-01, -4.2001e-02,\n",
      "         -2.3033e-02, -5.2758e-02, -4.6802e-02,  8.7382e-02, -3.7804e-02,\n",
      "         -9.3452e-02,  5.2496e-03,  7.4996e-02, -1.4969e-03, -3.6190e-02,\n",
      "         -8.0793e-02,  1.0741e-01],\n",
      "        [-4.0252e-02, -9.5214e-02, -6.6507e-02, -3.0094e-02,  6.2593e-02,\n",
      "         -7.3099e-02,  7.3478e-02, -7.0824e-02, -3.5936e-02,  4.7842e-02,\n",
      "          8.2666e-02,  1.3491e-02, -2.2785e-02, -9.5329e-02,  2.7857e-02,\n",
      "         -1.3828e-02,  1.0851e-01,  4.6471e-02,  2.3813e-02, -4.9451e-02,\n",
      "         -8.2848e-02, -6.2052e-02,  8.5271e-02, -7.3247e-02,  1.0017e-01,\n",
      "         -1.0362e-01, -9.1870e-03, -6.1734e-02, -3.8614e-03, -1.0643e-03,\n",
      "          7.3804e-02,  3.4739e-02,  1.8491e-03, -8.4359e-02, -5.4807e-02,\n",
      "          7.0082e-02,  4.3432e-02, -1.4097e-02, -5.5835e-02,  5.5792e-03,\n",
      "          7.0849e-03, -2.3122e-02, -9.1495e-02,  5.6729e-02,  2.7893e-03,\n",
      "         -3.2576e-02,  9.2372e-02, -8.1158e-02, -5.1117e-02, -1.0569e-01,\n",
      "         -9.0316e-04, -8.9686e-02, -4.8534e-02, -3.4644e-02,  2.3045e-02,\n",
      "         -1.5677e-02, -9.6936e-02, -7.5703e-02,  2.7466e-02,  3.4314e-02,\n",
      "         -3.4911e-02,  7.3525e-03, -7.1847e-02,  9.4130e-02, -2.5528e-02,\n",
      "         -9.6643e-02, -3.4494e-02, -7.9812e-02, -2.9692e-02, -6.8499e-02,\n",
      "         -5.8529e-02,  5.3745e-02,  1.6243e-02, -2.2739e-02, -2.5797e-02,\n",
      "          8.7758e-02, -4.2536e-02,  1.0824e-01, -9.4317e-02,  7.3300e-02,\n",
      "         -8.8726e-02, -1.0024e-01]], grad_fn=<SliceBackward>) \n",
      "\n",
      "Layer: linear_relu_stack.0.bias | Size: torch.Size([40]) | Values : tensor([-0.0037,  0.0006], grad_fn=<SliceBackward>) \n",
      "\n",
      "Layer: linear_relu_stack.2.weight | Size: torch.Size([30, 40]) | Values : tensor([[ 0.0729, -0.1225, -0.1303, -0.0563,  0.0062,  0.1316,  0.0295, -0.1430,\n",
      "         -0.0844, -0.0335,  0.1100,  0.1220,  0.1019,  0.0587,  0.0376,  0.0857,\n",
      "          0.1208,  0.0961, -0.0756, -0.1219, -0.0038,  0.0345,  0.0996,  0.0341,\n",
      "          0.1556, -0.0277, -0.1548, -0.0846,  0.1319,  0.1395,  0.0572, -0.1179,\n",
      "         -0.0564,  0.0279,  0.1097,  0.0395, -0.0155,  0.0980, -0.0331, -0.1167],\n",
      "        [-0.1493, -0.1389, -0.0410,  0.0454, -0.1403,  0.0054, -0.0517, -0.1490,\n",
      "         -0.1363, -0.0102, -0.1012,  0.1527, -0.0587,  0.0783,  0.1540,  0.0893,\n",
      "         -0.0127,  0.1352, -0.0732, -0.0028, -0.0252, -0.1049,  0.0394, -0.0019,\n",
      "         -0.0075,  0.0003,  0.0963, -0.0213, -0.0108, -0.1551,  0.0719, -0.1284,\n",
      "         -0.0499, -0.0025, -0.0277, -0.0678,  0.1153,  0.0644, -0.0857,  0.0581]],\n",
      "       grad_fn=<SliceBackward>) \n",
      "\n",
      "Layer: linear_relu_stack.2.bias | Size: torch.Size([30]) | Values : tensor([ 0.1389, -0.0754], grad_fn=<SliceBackward>) \n",
      "\n",
      "Layer: linear_relu_stack.4.weight | Size: torch.Size([20, 30]) | Values : tensor([[ 0.1378,  0.1718,  0.1823,  0.0237,  0.1550,  0.1621,  0.0667,  0.0687,\n",
      "         -0.0303, -0.0210, -0.0758,  0.0520,  0.1802,  0.1770,  0.1067, -0.1110,\n",
      "          0.0542,  0.0600, -0.0757,  0.0167, -0.0736, -0.0302,  0.1270, -0.0425,\n",
      "          0.0040, -0.1738,  0.0247,  0.0936,  0.1375,  0.1436],\n",
      "        [ 0.0858, -0.1340,  0.1220,  0.1681, -0.0376,  0.0410,  0.1027, -0.0764,\n",
      "          0.0441,  0.0925,  0.0566, -0.0826, -0.0553,  0.0428, -0.1352, -0.1623,\n",
      "         -0.0567, -0.0786,  0.0203, -0.0593,  0.1527, -0.1425,  0.0407, -0.1421,\n",
      "         -0.0633, -0.1154,  0.0962, -0.1219,  0.1458, -0.1024]],\n",
      "       grad_fn=<SliceBackward>) \n",
      "\n",
      "Layer: linear_relu_stack.4.bias | Size: torch.Size([20]) | Values : tensor([0.0348, 0.1819], grad_fn=<SliceBackward>) \n",
      "\n",
      "Layer: linear_relu_stack.6.weight | Size: torch.Size([20, 20]) | Values : tensor([[-0.0173,  0.0334,  0.1932, -0.1413,  0.0276,  0.0861, -0.0592,  0.0935,\n",
      "          0.0445,  0.1902,  0.1128,  0.1392, -0.2015,  0.1493,  0.1299,  0.0525,\n",
      "          0.1956, -0.0027, -0.1557,  0.0599],\n",
      "        [-0.1675, -0.1778, -0.0176, -0.0980, -0.1327,  0.1874, -0.0798, -0.1732,\n",
      "         -0.0337,  0.0907, -0.1255,  0.1472,  0.0193, -0.0927, -0.2028, -0.0793,\n",
      "          0.1854,  0.1803,  0.1066, -0.0214]], grad_fn=<SliceBackward>) \n",
      "\n",
      "Layer: linear_relu_stack.6.bias | Size: torch.Size([20]) | Values : tensor([ 0.0138, -0.2193], grad_fn=<SliceBackward>) \n",
      "\n",
      "Layer: linear_relu_stack.8.weight | Size: torch.Size([1, 20]) | Values : tensor([[-0.1262, -0.1377,  0.0724,  0.1051,  0.1647, -0.1700,  0.1939,  0.0379,\n",
      "         -0.1147, -0.1534, -0.1343, -0.1144, -0.2205, -0.0278, -0.1023,  0.0929,\n",
      "          0.1060, -0.1319, -0.0959,  0.1398]], grad_fn=<SliceBackward>) \n",
      "\n",
      "Layer: linear_relu_stack.8.bias | Size: torch.Size([1]) | Values : tensor([0.1457], grad_fn=<SliceBackward>) \n",
      "\n"
     ]
    }
   ],
   "source": [
    "# creating model instance\n",
    "model = NeuralNetwork()\n",
    "print(model)\n",
    "\n",
    "for name, param in model.named_parameters():\n",
    "    print(f\"Layer: {name} | Size: {param.size()} | Values : {param[:2]} \\n\")\n",
    "    \n",
    "# initialising hyperparameters\n",
    "learning_rate = 1e-2\n",
    "epochs = 10\n",
    "\n",
    "# initializing the loss function\n",
    "loss_fn = torch.nn.MSELoss()\n",
    "\n",
    "# initializing the optimizer\n",
    "optimizer = torch.optim.SGD(model.parameters(), lr=learning_rate)"
   ]
  },
  {
   "cell_type": "code",
   "execution_count": 45,
   "metadata": {},
   "outputs": [],
   "source": [
    "# defining train and test loops\n",
    "\n",
    "def train_loop(dataloader, model, loss_fn, optimizer):\n",
    "    size = len(dataloader.dataset)\n",
    "    for batch, (X, y) in enumerate(dataloader):\n",
    "        # Compute prediction and loss\n",
    "        pred = model(X)\n",
    "        loss = loss_fn(pred, y)\n",
    "\n",
    "        # Backpropagation\n",
    "        optimizer.zero_grad()\n",
    "        loss.backward()\n",
    "        optimizer.step()\n",
    "\n",
    "        if batch % 100 == 0:\n",
    "            loss, current = loss.item(), batch * len(X)\n",
    "            print(f\"loss: {loss:>7f}  [{current:>5d}/{size:>5d}]\")\n",
    "\n",
    "\n",
    "def test_loop(dataloader, model, loss_fn):\n",
    "    size = len(dataloader.dataset)\n",
    "    num_batches = len(dataloader)\n",
    "    test_loss = 0\n",
    "\n",
    "    with torch.no_grad():\n",
    "        for X, y in dataloader:\n",
    "            pred = model(X)\n",
    "            test_loss += loss_fn(pred, y).item()\n",
    "\n",
    "    test_loss /= num_batches\n",
    "    print(f\"Test Error: Avg loss: {test_loss:>8f} \\n\")"
   ]
  },
  {
   "cell_type": "code",
   "execution_count": 46,
   "metadata": {},
   "outputs": [
    {
     "name": "stdout",
     "output_type": "stream",
     "text": [
      "Epoch 1\n",
      "-------------------------------\n",
      "loss: 0.119066  [    0/ 7511]\n",
      "loss: 0.000003  [ 6400/ 7511]\n",
      "Test Error: Avg loss: 0.000002 \n",
      "\n",
      "Epoch 2\n",
      "-------------------------------\n",
      "loss: 0.000001  [    0/ 7511]\n",
      "loss: 0.000001  [ 6400/ 7511]\n",
      "Test Error: Avg loss: 0.000002 \n",
      "\n",
      "Epoch 3\n",
      "-------------------------------\n",
      "loss: 0.000006  [    0/ 7511]\n",
      "loss: 0.000000  [ 6400/ 7511]\n",
      "Test Error: Avg loss: 0.000002 \n",
      "\n",
      "Epoch 4\n",
      "-------------------------------\n",
      "loss: 0.000000  [    0/ 7511]\n",
      "loss: 0.000000  [ 6400/ 7511]\n",
      "Test Error: Avg loss: 0.000002 \n",
      "\n",
      "Epoch 5\n",
      "-------------------------------\n",
      "loss: 0.000004  [    0/ 7511]\n",
      "loss: 0.000001  [ 6400/ 7511]\n",
      "Test Error: Avg loss: 0.000002 \n",
      "\n",
      "Epoch 6\n",
      "-------------------------------\n",
      "loss: 0.000001  [    0/ 7511]\n",
      "loss: 0.000009  [ 6400/ 7511]\n",
      "Test Error: Avg loss: 0.000002 \n",
      "\n",
      "Epoch 7\n",
      "-------------------------------\n",
      "loss: 0.000001  [    0/ 7511]\n",
      "loss: 0.000000  [ 6400/ 7511]\n",
      "Test Error: Avg loss: 0.000002 \n",
      "\n",
      "Epoch 8\n",
      "-------------------------------\n",
      "loss: 0.000001  [    0/ 7511]\n",
      "loss: 0.000000  [ 6400/ 7511]\n",
      "Test Error: Avg loss: 0.000002 \n",
      "\n",
      "Epoch 9\n",
      "-------------------------------\n",
      "loss: 0.000000  [    0/ 7511]\n",
      "loss: 0.000004  [ 6400/ 7511]\n",
      "Test Error: Avg loss: 0.000002 \n",
      "\n",
      "Epoch 10\n",
      "-------------------------------\n",
      "loss: 0.000000  [    0/ 7511]\n",
      "loss: 0.000000  [ 6400/ 7511]\n",
      "Test Error: Avg loss: 0.000002 \n",
      "\n",
      "Done!\n"
     ]
    }
   ],
   "source": [
    "# executing training and testing\n",
    "for t in range(epochs):\n",
    "    print(f\"Epoch {t+1}\\n-------------------------------\")\n",
    "    train_loop(train_ldr, model, loss_fn, optimizer)\n",
    "    test_loop(test_ldr, model, loss_fn)\n",
    "print(\"Done!\")"
   ]
  },
  {
   "cell_type": "code",
   "execution_count": null,
   "metadata": {},
   "outputs": [],
   "source": []
  }
 ],
 "metadata": {
  "interpreter": {
   "hash": "b0fa6594d8f4cbf19f97940f81e996739fb7646882a419484c72d19e05852a7e"
  },
  "kernelspec": {
   "display_name": "Python 3",
   "language": "python",
   "name": "python3"
  },
  "language_info": {
   "codemirror_mode": {
    "name": "ipython",
    "version": 3
   },
   "file_extension": ".py",
   "mimetype": "text/x-python",
   "name": "python",
   "nbconvert_exporter": "python",
   "pygments_lexer": "ipython3",
   "version": "3.8.3"
  },
  "toc": {
   "base_numbering": 1,
   "nav_menu": {},
   "number_sections": true,
   "sideBar": true,
   "skip_h1_title": false,
   "title_cell": "Table of Contents",
   "title_sidebar": "Contents",
   "toc_cell": false,
   "toc_position": {},
   "toc_section_display": true,
   "toc_window_display": false
  }
 },
 "nbformat": 4,
 "nbformat_minor": 5
}
